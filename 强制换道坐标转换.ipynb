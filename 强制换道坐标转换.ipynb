{
 "cells": [
  {
   "cell_type": "code",
   "execution_count": 45,
   "metadata": {},
   "outputs": [
    {
     "name": "stdout",
     "output_type": "stream",
     "text": [
      "[ 1.49276666e+01  1.89636888e+01  1.45000000e+02  1.40817462e+00\n",
      " -2.19796414e+00  6.37000000e+02 -3.98028172e-03  8.65998177e-03]\n",
      "[14.08655899 25.11728843]\n",
      "[16.6310791  24.72088782]\n"
     ]
    },
    {
     "data": {
      "text/plain": [
       "2.5752118434596505"
      ]
     },
     "execution_count": 45,
     "metadata": {},
     "output_type": "execute_result"
    }
   ],
   "source": [
    "import numpy as np\n",
    "# 输入四个已知点\n",
    "#（u,v）为像素坐标\n",
    "#（x,y）为实际坐标\n",
    "u1=145\n",
    "u2=1065\n",
    "u3=1100\n",
    "u4=246\n",
    "v1=637\n",
    "v2=871\n",
    "v3=836\n",
    "v4=593\n",
    "x1=0\n",
    "x2=48\n",
    "x3=48\n",
    "x4=0\n",
    "y1=0\n",
    "y2=0\n",
    "y3=3\n",
    "y4=6\n",
    "\n",
    "#下面为求解多元线性方程组\n",
    "s1=[x1,y1,1,0,0,0,-u1*x1,-u1*y1]\n",
    "s2=[x2,y2,1,0,0,0,-u2*x2,-u2*y2]\n",
    "s3=[x3,y3,1,0,0,0,-u3*x3,-u3*y3]\n",
    "s4=[x4,y4,1,0,0,0,-u4*x4,-u4*y4]\n",
    "h1=[0,0,0,x1,y1,1,-v1*x1,-v1*y1]\n",
    "h2=[0,0,0,x2,y2,1,-v2*x2,-v2*y2]\n",
    "h3=[0,0,0,x3,y3,1,-v3*x3,-v3*y3]\n",
    "h4=[0,0,0,x4,y4,1,-v4*x4,-v4*y4]\n",
    "q=np.array([s1,h1,s2,h2,s3,h3,s4,h4])\n",
    "w=np.array([u1,v1,u2,v2,u3,v3,u4,v4])\n",
    "# p为变换矩阵\n",
    "p=np.linalg.solve(q,w)\n",
    "print(p)\n",
    "\n",
    "\n",
    "#pp=[3.91034772,1.87486987,0,0.13963261,2.13354885,0, 0.00632651,0.05340372]\n",
    "# c=np.dot(q,p)\n",
    "\n",
    "# 下面为验证过程，随机输入两个像素坐标，输出转换后的实际坐标和长度\n",
    "\n",
    "ui=716\n",
    "vi=518\n",
    "#xi=((p[6]*p[8]-p[5]*p[9])*ui+(p[6]*p[8]-p[5]*p[9])*vi+p[3]*p[5]-p[2]*p[6])/((p[5]*p[7]-p[4]*p[8])*ui+(p[1]*p[8]-p[2]*p[7])*vi+p\n",
    "j=[[p[0]-ui*p[6],p[1]-ui*p[7]],[p[3]-vi*p[6],p[4]-vi*p[7]]]\n",
    "k=[ui-p[2],vi-p[5]]\n",
    "xy=np.linalg.solve(j,k)\n",
    "\n",
    "ui=751\n",
    "vi=528\n",
    "j=[[p[0]-ui*p[6],p[1]-ui*p[7]],[p[3]-vi*p[6],p[4]-vi*p[7]]]\n",
    "k=[ui-p[2],vi-p[5]]\n",
    "xy1=np.linalg.solve(j,k)\n",
    "\n",
    "print(xy)\n",
    "print(xy1)\n",
    "\n",
    "((xy[0]-xy1[0])**2 + (xy[1]-xy1[1])**2) ** 0.5"
   ]
  },
  {
   "cell_type": "code",
   "execution_count": 10,
   "metadata": {},
   "outputs": [
    {
     "data": {
      "text/plain": [
       "4.3989424779471475"
      ]
     },
     "execution_count": 10,
     "metadata": {},
     "output_type": "execute_result"
    }
   ],
   "source": []
  }
 ],
 "metadata": {
  "kernelspec": {
   "display_name": "Python 3",
   "language": "python",
   "name": "python3"
  },
  "language_info": {
   "codemirror_mode": {
    "name": "ipython",
    "version": 3
   },
   "file_extension": ".py",
   "mimetype": "text/x-python",
   "name": "python",
   "nbconvert_exporter": "python",
   "pygments_lexer": "ipython3",
   "version": "3.7.6"
  }
 },
 "nbformat": 4,
 "nbformat_minor": 4
}
